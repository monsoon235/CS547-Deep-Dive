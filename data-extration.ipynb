{
 "cells": [
  {
   "cell_type": "markdown",
   "id": "52da2f4646721519",
   "metadata": {},
   "source": [
    "This notebook prepossesses the raw data from [University of Illinois' GPA Dataset](https://github.com/wadefagen/datasets/tree/master/gpa)."
   ]
  },
  {
   "cell_type": "code",
   "execution_count": 6,
   "id": "initial_id",
   "metadata": {
    "ExecuteTime": {
     "end_time": "2024-10-27T07:43:29.877027Z",
     "start_time": "2024-10-27T07:43:29.339448Z"
    },
    "collapsed": true
   },
   "outputs": [],
   "source": [
    "# load libraries\n",
    "import numpy as np\n",
    "import pandas as pd"
   ]
  },
  {
   "cell_type": "code",
   "execution_count": 14,
   "id": "59683617",
   "metadata": {},
   "outputs": [],
   "source": [
    "def preprocess_data(path: str, debug_items: int):\n",
    "    # load csv\n",
    "    full_data = pd.read_csv(path)\n",
    "    debug_data = full_data.sample(debug_items)\n",
    "    # save to pickle\n",
    "    full_data.to_pickle(\"data/full.pkl\")\n",
    "    debug_data.to_pickle(\"data/debug.pkl\")"
   ]
  },
  {
   "cell_type": "code",
   "execution_count": 15,
   "id": "70104182",
   "metadata": {},
   "outputs": [],
   "source": [
    "# Milestone 1\n",
    "preprocess_data(\"gpa/uiuc-gpa-dataset.csv\", 100)"
   ]
  }
 ],
 "metadata": {
  "kernelspec": {
   "display_name": "cs547",
   "language": "python",
   "name": "python3"
  },
  "language_info": {
   "codemirror_mode": {
    "name": "ipython",
    "version": 3
   },
   "file_extension": ".py",
   "mimetype": "text/x-python",
   "name": "python",
   "nbconvert_exporter": "python",
   "pygments_lexer": "ipython3",
   "version": "3.12.7"
  }
 },
 "nbformat": 4,
 "nbformat_minor": 5
}

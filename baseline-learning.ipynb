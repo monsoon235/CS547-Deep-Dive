{
 "cells": [
  {
   "cell_type": "code",
   "execution_count": 2,
   "id": "initial_id",
   "metadata": {
    "ExecuteTime": {
     "end_time": "2024-11-15T03:51:54.244990Z",
     "start_time": "2024-11-15T03:51:54.241194Z"
    },
    "collapsed": true
   },
   "outputs": [],
   "source": [
    "# load libraries\n",
    "import numpy as np\n",
    "import pandas as pd"
   ]
  },
  {
   "cell_type": "markdown",
   "id": "a62704535b55ec43",
   "metadata": {},
   "source": [
    "## Preprocessing Data\n",
    "\n",
    "1. filter out useless columns\n",
    "2. drop useless columns: `YearTerm`, `W`\n",
    "3. filter out items with missing fields\n",
    "4. compute `GPA` of each row\n",
    "5. convert number of grade into percentage\n",
    "6. one-hot encoding for categorical fields\n",
    "7. split train and test dataset\n",
    "8. split features and labels"
   ]
  },
  {
   "cell_type": "code",
   "execution_count": 3,
   "id": "3b8704afe4257872",
   "metadata": {
    "ExecuteTime": {
     "end_time": "2024-11-15T03:52:23.971454Z",
     "start_time": "2024-11-15T03:52:11.950750Z"
    }
   },
   "outputs": [
    {
     "name": "stderr",
     "output_type": "stream",
     "text": [
      "/tmp/ipykernel_1140818/3986081211.py:46: SettingWithCopyWarning: \n",
      "A value is trying to be set on a copy of a slice from a DataFrame.\n",
      "Try using .loc[row_indexer,col_indexer] = value instead\n",
      "\n",
      "See the caveats in the documentation: https://pandas.pydata.org/pandas-docs/stable/user_guide/indexing.html#returning-a-view-versus-a-copy\n",
      "  X[col] = le.fit_transform(X[col])\n",
      "/tmp/ipykernel_1140818/3986081211.py:46: SettingWithCopyWarning: \n",
      "A value is trying to be set on a copy of a slice from a DataFrame.\n",
      "Try using .loc[row_indexer,col_indexer] = value instead\n",
      "\n",
      "See the caveats in the documentation: https://pandas.pydata.org/pandas-docs/stable/user_guide/indexing.html#returning-a-view-versus-a-copy\n",
      "  X[col] = le.fit_transform(X[col])\n",
      "/tmp/ipykernel_1140818/3986081211.py:46: SettingWithCopyWarning: \n",
      "A value is trying to be set on a copy of a slice from a DataFrame.\n",
      "Try using .loc[row_indexer,col_indexer] = value instead\n",
      "\n",
      "See the caveats in the documentation: https://pandas.pydata.org/pandas-docs/stable/user_guide/indexing.html#returning-a-view-versus-a-copy\n",
      "  X[col] = le.fit_transform(X[col])\n",
      "/tmp/ipykernel_1140818/3986081211.py:46: SettingWithCopyWarning: \n",
      "A value is trying to be set on a copy of a slice from a DataFrame.\n",
      "Try using .loc[row_indexer,col_indexer] = value instead\n",
      "\n",
      "See the caveats in the documentation: https://pandas.pydata.org/pandas-docs/stable/user_guide/indexing.html#returning-a-view-versus-a-copy\n",
      "  X[col] = le.fit_transform(X[col])\n",
      "/tmp/ipykernel_1140818/3986081211.py:46: SettingWithCopyWarning: \n",
      "A value is trying to be set on a copy of a slice from a DataFrame.\n",
      "Try using .loc[row_indexer,col_indexer] = value instead\n",
      "\n",
      "See the caveats in the documentation: https://pandas.pydata.org/pandas-docs/stable/user_guide/indexing.html#returning-a-view-versus-a-copy\n",
      "  X[col] = le.fit_transform(X[col])\n",
      "/tmp/ipykernel_1140818/3986081211.py:46: SettingWithCopyWarning: \n",
      "A value is trying to be set on a copy of a slice from a DataFrame.\n",
      "Try using .loc[row_indexer,col_indexer] = value instead\n",
      "\n",
      "See the caveats in the documentation: https://pandas.pydata.org/pandas-docs/stable/user_guide/indexing.html#returning-a-view-versus-a-copy\n",
      "  X[col] = le.fit_transform(X[col])\n",
      "/tmp/ipykernel_1140818/3986081211.py:46: SettingWithCopyWarning: \n",
      "A value is trying to be set on a copy of a slice from a DataFrame.\n",
      "Try using .loc[row_indexer,col_indexer] = value instead\n",
      "\n",
      "See the caveats in the documentation: https://pandas.pydata.org/pandas-docs/stable/user_guide/indexing.html#returning-a-view-versus-a-copy\n",
      "  X[col] = le.fit_transform(X[col])\n"
     ]
    },
    {
     "name": "stdout",
     "output_type": "stream",
     "text": [
      "(58915, 7) (58915, 1)\n",
      "(53023, 7) (53023, 1)\n",
      "(5892, 7) (5892, 1)\n"
     ]
    }
   ],
   "source": [
    "# load data\n",
    "data = pd.read_pickle('data/full.pkl')\n",
    "\n",
    "# filter out useless columns\n",
    "data = data.drop(columns=['YearTerm', 'W'])\n",
    "\n",
    "# filter out missing fields\n",
    "data = data.dropna()\n",
    "\n",
    "# compute GPA of each course\n",
    "data['Student Number'] = data['A+'] + data['A'] + data['A-'] + data['B+'] + data['B'] + data['B-'] + data['C+'] + data['C'] + data['C-'] + data['D+'] + data['D'] + data['D-'] + data['F']\n",
    "grade_mapping = {\n",
    "    'A+': 4.0,\n",
    "    'A': 4.0,\n",
    "    'A-': 3.7,\n",
    "    'B+': 3.3,\n",
    "    'B': 3.0,\n",
    "    'B-': 2.7,\n",
    "    'C+': 2.3,\n",
    "    'C': 2.0,\n",
    "    'C-': 1.7,\n",
    "    'D+': 1.3,\n",
    "    'D': 1.0,\n",
    "    'D-': 0.7,\n",
    "    'F': 0.0\n",
    "}\n",
    "data['GPA'] = 0\n",
    "for col in ['A+', 'A', 'A-', 'B+', 'B', 'B-', 'C+', 'C', 'C-', 'D+', 'D', 'D-', 'F']:\n",
    "    data['GPA'] += grade_mapping[col] * data[col]\n",
    "data['GPA'] /= data['Student Number']\n",
    "\n",
    "# convert student number into percentage\n",
    "for col in ['A+', 'A', 'A-', 'B+', 'B', 'B-', 'C+', 'C', 'C-', 'D+', 'D', 'D-', 'F']:\n",
    "    data[col] = data[col] / data['Student Number']\n",
    "\n",
    "# split features and labels\n",
    "feature_columns = ['Year', 'Term', 'Subject', 'Course Title', 'Number', 'Sched Type', 'Primary Instructor']\n",
    "label_columns = ['GPA']\n",
    "X = data[feature_columns]\n",
    "y = data[label_columns]\n",
    "\n",
    "# encoding features: numerical encoding\n",
    "from sklearn.preprocessing import LabelEncoder\n",
    "for col in feature_columns:\n",
    "    le = LabelEncoder()\n",
    "    X[col] = le.fit_transform(X[col])\n",
    "\n",
    "print(X.shape, y.shape)\n",
    "\n",
    "# split train and test dataset\n",
    "from sklearn.model_selection import train_test_split\n",
    "X_train, X_test, y_train, y_test = train_test_split(X, y, test_size=0.1, random_state=42)\n",
    "\n",
    "print(X_train.shape, y_train.shape)\n",
    "print(X_test.shape, y_test.shape)"
   ]
  },
  {
   "cell_type": "code",
   "execution_count": 4,
   "id": "e48fbc658b14ff43",
   "metadata": {
    "ExecuteTime": {
     "end_time": "2024-11-15T03:23:05.298462518Z",
     "start_time": "2024-11-15T03:17:18.966934Z"
    }
   },
   "outputs": [
    {
     "name": "stdout",
     "output_type": "stream",
     "text": [
      "RMSE of testing set: 0.3740702119775465\n",
      "RMSE of GPA in testing set: 0.3740702119775465\n"
     ]
    }
   ],
   "source": [
    "# linear regression\n",
    "from sklearn.linear_model import LinearRegression\n",
    "reg = LinearRegression().fit(X_train, y_train)\n",
    "\n",
    "y_pred = reg.predict(X_test)\n",
    "\n",
    "# compute RMSE\n",
    "from sklearn.metrics import root_mean_squared_error\n",
    "print('RMSE of testing set:', root_mean_squared_error(y_test, y_pred))\n",
    "print('RMSE of GPA in testing set:', root_mean_squared_error(y_test['GPA'], y_pred[:, -1]))"
   ]
  },
  {
   "cell_type": "markdown",
   "id": "b4d46327352c5adb",
   "metadata": {},
   "source": [
    "## Baseline: Random Forest and Results\n",
    "\n",
    "Using a simple random forest model as the baseline.\n",
    "\n",
    "The RMSE of testing set is 0.374. This model works poorly for the dataset and can not generate any meaningful prediction. We will try to improve the model in the future. "
   ]
  }
 ],
 "metadata": {
  "kernelspec": {
   "display_name": "cs547",
   "language": "python",
   "name": "python3"
  },
  "language_info": {
   "codemirror_mode": {
    "name": "ipython",
    "version": 3
   },
   "file_extension": ".py",
   "mimetype": "text/x-python",
   "name": "python",
   "nbconvert_exporter": "python",
   "pygments_lexer": "ipython3",
   "version": "3.12.0"
  }
 },
 "nbformat": 4,
 "nbformat_minor": 5
}
